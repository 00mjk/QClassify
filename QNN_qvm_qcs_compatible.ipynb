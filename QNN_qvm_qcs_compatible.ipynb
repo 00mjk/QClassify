{
 "cells": [
  {
   "cell_type": "markdown",
   "metadata": {},
   "source": [
    "# Supervised learning\n",
    "\n",
    "Classification of points on 2D plane using a 2-qubit quantum circuit. Here we encode a 2-dimensional vector $(\\theta_1, \\theta_2)$ into a 2-qubit state, and use a parametrized circuit to perform further classification.\n",
    "\n",
    "The circuit is the following:\n",
    "\n",
    "<img src=\"qnn_circuit3.png\" width=\"50%\">\n",
    "\n",
    "The first part is an encoding circuit that serves as a feature map which maps a data point $(\\theta_1,\\theta_2)$ into a 2-qubit state. The second part is a classifier which produces the output as the probability $p$ of measuring $|0\\rangle$ in the top qubit.\n",
    "\n",
    "References:\n",
    "\n",
    "The set up of quantum neural network: https://arxiv.org/abs/1802.06002\n",
    "\n",
    "The encoding idea: https://arxiv.org/abs/1804.00633\n",
    "\n",
    "The ansatz design: https://arxiv.org/abs/1804.11326"
   ]
  },
  {
   "cell_type": "code",
   "execution_count": 1,
   "metadata": {
    "collapsed": true
   },
   "outputs": [],
   "source": [
    "# Basic parameters\n",
    "import numpy as np\n",
    "import matplotlib.pyplot as plt\n",
    "\n",
    "from pyquil.api import get_qc, pyquil_protect\n",
    "from pyquil.quil import Program\n",
    "from pyquil.gates import *\n",
    "\n",
    "from math import *"
   ]
  },
  {
   "cell_type": "code",
   "execution_count": 2,
   "metadata": {
    "collapsed": true
   },
   "outputs": [],
   "source": [
    "# Function running the quantum circuit\n",
    "def qnn(input_vec, params, qubits_chosen):\n",
    "    \n",
    "    \"\"\"\n",
    "    Args:\n",
    "        input_vec - the 2D input vector to be classified\n",
    "        params - the parameters for the classification circuit\n",
    "        qubits_chosen - indices of the chosen qubits\n",
    "    \n",
    "    Returns:\n",
    "        A program object describing the circuit\n",
    "    \"\"\"\n",
    "    \n",
    "    t0 = input_vec[0]\n",
    "    t1 = input_vec[1]\n",
    "    \n",
    "    p0 = params[0]\n",
    "    p1 = params[1]\n",
    "    \n",
    "    q0 = qubits_chosen[0]\n",
    "    q1 = qubits_chosen[1]\n",
    "    \n",
    "    qubits = [q0, q1]\n",
    "    \n",
    "    program = Program(\n",
    "            RX(t0, q0),\n",
    "            RX(t1, q1), # Encoding circuit\n",
    "            CZ(q0, q1), \n",
    "            RX(p0, q0),\n",
    "            RX(p1, q1), # Unitary layer\n",
    "#             MEASURE(q0, 0),\n",
    "#             MEASURE(q1, 1)\n",
    "        )\n",
    "    \n",
    "    memory_size = len(qubits)\n",
    "    ro = program.declare('ro', memory_type='BIT', memory_size=memory_size)\n",
    "    for i in range(memory_size):\n",
    "        program += MEASURE(qubits[i], ro[i])\n",
    "    \n",
    "    return program"
   ]
  },
  {
   "cell_type": "markdown",
   "metadata": {},
   "source": [
    "Now we run one instance of the circuit on the QPU with randomly assigned parameters."
   ]
  },
  {
   "cell_type": "code",
   "execution_count": 3,
   "metadata": {
    "collapsed": true
   },
   "outputs": [],
   "source": [
    "# Test run the circuit\n",
    "\n",
    "N_RUNS = 10000\n",
    "\n",
    "input_vec = [0.1, -0.2]\n",
    "params = [np.random.uniform(-pi/2, pi/2) for x in range(0,4)]\n",
    "qubits_chosen = [0, 1]\n",
    "\n",
    "qnn_prog = qnn(input_vec, params, qubits_chosen)"
   ]
  },
  {
   "cell_type": "code",
   "execution_count": 4,
   "metadata": {},
   "outputs": [
    {
     "name": "stdout",
     "output_type": "stream",
     "text": [
      "RX(0.1) 0\n",
      "RX(-0.2) 1\n",
      "CZ 0 1\n",
      "RX(-1.0987201677866214) 0\n",
      "RX(1.1043433073578233) 1\n",
      "DECLARE ro BIT[2]\n",
      "MEASURE 0 ro[0]\n",
      "MEASURE 1 ro[1]\n",
      "\n"
     ]
    }
   ],
   "source": [
    "print(qnn_prog)"
   ]
  },
  {
   "cell_type": "code",
   "execution_count": 5,
   "metadata": {
    "collapsed": true
   },
   "outputs": [],
   "source": [
    "# Set up connection\n",
    "forest_cxn = get_qc('9q-generic-qvm')"
   ]
  },
  {
   "cell_type": "code",
   "execution_count": 6,
   "metadata": {},
   "outputs": [
    {
     "name": "stdout",
     "output_type": "stream",
     "text": [
      "\n",
      "Probability: 0.231\n"
     ]
    }
   ],
   "source": [
    "# Compile circuit\n",
    "qnn_wrapped_circuit = qnn_prog.wrap_in_numshots_loop(N_RUNS)\n",
    "qnn_native_circuit = forest_cxn.compiler.quil_to_native_quil(qnn_wrapped_circuit)\n",
    "qnn_circuit_executable = forest_cxn.compiler.native_quil_to_executable(qnn_native_circuit)\n",
    "\n",
    "# Execute circuit\n",
    "result = forest_cxn.run(qnn_circuit_executable)\n",
    "\n",
    "num_q0_1 = 0\n",
    "for x in result:\n",
    "    if x[0] == 1:\n",
    "        num_q0_1 = num_q0_1 + 1\n",
    "qvm_prob = float(num_q0_1) / float(N_RUNS)\n",
    "print(\"\\nProbability: {}\".format(qvm_prob))"
   ]
  },
  {
   "cell_type": "markdown",
   "metadata": {},
   "source": [
    "## Linearly inseparable data\n",
    "\n",
    "We generate synthetic data points in 2D that are linearly inseparable"
   ]
  },
  {
   "cell_type": "code",
   "execution_count": 7,
   "metadata": {},
   "outputs": [
    {
     "name": "stderr",
     "output_type": "stream",
     "text": [
      "/usr/local/lib/python3.7/site-packages/matplotlib/cbook/__init__.py:424: MatplotlibDeprecationWarning: \n",
      "Passing one of 'on', 'true', 'off', 'false' as a boolean is deprecated; use an actual boolean (True/False) instead.\n",
      "  warn_deprecated(\"2.2\", \"Passing one of 'on', 'true', 'off', 'false' as a \"\n"
     ]
    },
    {
     "data": {
      "image/png": "[encoded data removed]",
      "text/plain": [
       "<Figure size 432x288 with 1 Axes>"
      ]
     },
     "metadata": {
      "needs_background": "light"
     },
     "output_type": "display_data"
    }
   ],
   "source": [
    "# Generate linearly separable data\n",
    "Ndata = 5 # Number of data points per point group\n",
    "delta = pi/10 # range of perturbation\n",
    "#group0 = [[-pi/2+np.random.uniform(-delta,delta), np.random.uniform(-delta, delta)] for x in range(0, Ndata)]\\\n",
    "#        + [[pi/2+np.random.uniform(-delta,delta), pi+np.random.uniform(-delta, delta)] for x in range(0, Ndata)]\n",
    "#group1 = [[-pi/2+np.random.uniform(-delta,delta), pi+np.random.uniform(-delta, delta)] for x in range(0, Ndata)]\\\n",
    "#        + [[pi/2+np.random.uniform(-delta,delta), np.random.uniform(-delta, delta)] for x in range(0, Ndata)]\n",
    "group0 = [[-1.8014030885341425, 0.07049090664351776],\n",
    "          [-1.301866318505309, -0.09006021655705085],\n",
    "          [-1.2995311803877012, 0.17179375194954777],\n",
    "          [-1.6844614700570668, 0.26300082528677904],\n",
    "          [-1.581826822227654, 0.2210431121474794],\n",
    "          [1.526782533409962, 3.227296155921321],\n",
    "          [1.6081456320334693, 3.3248683153683958],\n",
    "          [1.4118513018150587, 3.436121923699187],\n",
    "          [1.5620769416428386, 3.384965966733096],\n",
    "          [1.3020823312222616, 3.3163245524916936]]\n",
    "group1 = [[-1.6269012492495667, 2.8732368479226293],\n",
    "          [-1.5530830764355592, 3.1738353675554416],\n",
    "          [-1.8513100742724584, 3.2237767325843545],\n",
    "          [-1.6272074871316728, 3.28878799481208],\n",
    "          [-1.6612433455383213, 2.879163347517711],\n",
    "          [1.3798060401258543, -0.09979143378370409],\n",
    "          [1.6151621300228456, 0.04571164290639079],\n",
    "          [1.426884637605485, -0.06169454299108834],\n",
    "          [1.5019812981463012, -0.16369059365023533],\n",
    "          [1.6204586467622049, -0.10966267374801358]]\n",
    "\n",
    "# Plot the data points\n",
    "plt.xlim(-pi,pi)\n",
    "plt.ylim(-pi/2,pi+pi/2)\n",
    "plt.scatter([x[0] for x in group0], [x[1] for x in group0], c=\"r\")\n",
    "plt.scatter([x[0] for x in group1], [x[1] for x in group1], c=\"b\")\n",
    "plt.xlabel(r'$\\theta_0$',fontsize=16)\n",
    "plt.ylabel(r'$\\theta_1$',fontsize=16)\n",
    "plt.grid('on')\n",
    "# plt.savefig('xor.pdf')\n",
    "plt.show()"
   ]
  },
  {
   "cell_type": "code",
   "execution_count": 16,
   "metadata": {
    "collapsed": true
   },
   "outputs": [],
   "source": [
    "# Function for one evaluation of a data point on a QPU\n",
    "qubits_chosen = [0, 1]\n",
    "\n",
    "def evaluate_q0(input_vec, params, qubits_chosen):\n",
    "    \"\"\"\n",
    "    Objective function is the probability of q0 being |1>\n",
    "    \"\"\"\n",
    "    \n",
    "    qnn_prog = qnn(input_vec, params, qubits_chosen)\n",
    "\n",
    "    # Open connection to the QVM\n",
    "    forest_cxn = get_qc('9q-generic-qvm')\n",
    "    \n",
    "    # Compile circuit\n",
    "    qnn_wrapped_circuit = qnn_prog.wrap_in_numshots_loop(N_RUNS)\n",
    "    qnn_native_circuit = forest_cxn.compiler.quil_to_native_quil(qnn_wrapped_circuit)\n",
    "    qnn_circuit_executable = forest_cxn.compiler.native_quil_to_executable(qnn_native_circuit)\n",
    "\n",
    "    # Execute circuit\n",
    "    result = forest_cxn.run(qnn_circuit_executable)\n",
    "\n",
    "    num_q0_1 = 0\n",
    "    for x in result:\n",
    "        if x[0] == 1:\n",
    "            num_q0_1 = num_q0_1 + 1\n",
    "    qvm_prob = float(num_q0_1) / float(N_RUNS)\n",
    "    print(\"\\nProbability: {}\".format(qvm_prob))\n",
    "    \n",
    "    return qvm_prob"
   ]
  },
  {
   "cell_type": "code",
   "execution_count": 17,
   "metadata": {
    "collapsed": true
   },
   "outputs": [],
   "source": [
    "# Training objective\n",
    "def targetfunc_q0(params):\n",
    "    \n",
    "    prob_group0 = []\n",
    "    #print('Group 0')\n",
    "    for input_vec in group0:\n",
    "        qpu_prob = evaluate_q0(input_vec, params, qubits_chosen)\n",
    "        prob_group0 = prob_group0 + [qpu_prob]\n",
    "    \n",
    "    prob_group1 = []\n",
    "    #print('Group 1')\n",
    "    for input_vec in group1:\n",
    "        qpu_prob = evaluate_q0(input_vec, params, qubits_chosen)\n",
    "        prob_group1 = prob_group1 + [qpu_prob]\n",
    "    \n",
    "    output = -(np.mean([log(x) for x in prob_group0]) - np.mean([log(x) for x in prob_group1]))\n",
    "    #print('Output={}'.format(output))\n",
    "    print(\"Current output: {}\".format(output))\n",
    "    return output"
   ]
  },
  {
   "cell_type": "code",
   "execution_count": 18,
   "metadata": {
    "collapsed": true
   },
   "outputs": [],
   "source": [
    "from scipy.optimize import minimize\n",
    "from matplotlib import cm\n",
    "\n",
    "init_list_params = [3.0672044712460114, 3.3311348339721203]\n",
    "# Sanity check: \n",
    "# http://www.wolframalpha.com/input/?i=plot+cos(x%2F2)%5E2*sin(y%2F2)%5E2%2Bsin(x%2F2)%5E2*cos(y%2F2)%5E2%2B1%2F2*sin(y)*sin(x)*cos(z)+for+y%3D3.0\n",
    "init_simplex = [init_list_params]\n",
    "for x in range(0,2):\n",
    "    perturbed_params = [y+np.random.uniform(-pi, pi) for y in init_list_params]\n",
    "    init_simplex = init_simplex + [perturbed_params]\n",
    "\n",
    "def plot_decision_boundary(params,filename):\n",
    "    \n",
    "    Nmesh = 5\n",
    "    range0 = np.linspace(-pi, pi, Nmesh)\n",
    "    range1 = np.linspace(-pi/2, pi+pi/2, Nmesh)\n",
    "\n",
    "    range_inputs = []\n",
    "    func_vals = []\n",
    "\n",
    "    for y in range1:\n",
    "        for x in range0:\n",
    "            range_inputs = range_inputs + [[x,y]]\n",
    "            func_vals = func_vals + [evaluate_q0([x,y], params, qubits_chosen)]\n",
    "\n",
    "    # Plot the decision boundaries\n",
    "    x = list(np.kron(range1, [1 for i in range(0,Nmesh)]))\n",
    "    #y = list(np.kron([1 for i in range(0,Nmesh)], range0))\n",
    "    X, Y = np.meshgrid(range0, range1)\n",
    "\n",
    "    # colors = func_vals\n",
    "    Z = np.reshape(func_vals, [Nmesh, Nmesh])\n",
    "\n",
    "    levels = np.arange(-3.5, 3.5, 0.1)\n",
    "    norm = cm.colors.Normalize(vmax=abs(Z).max(), vmin=-abs(Z).max())\n",
    "    cmap = cm.PRGn\n",
    "\n",
    "    plt.contourf(X, Y, Z, levels, cmap=cm.get_cmap(cmap, len(levels) - 1), norm=norm)\n",
    "    plt.scatter([x[0] for x in group0], [x[1] for x in group0], c=\"r\")\n",
    "    plt.scatter([x[0] for x in group1], [x[1] for x in group1], c=\"b\")\n",
    "\n",
    "    plt.rc('text', usetex=True)\n",
    "    plt.rc('font', family='serif')\n",
    "\n",
    "    plt.xlabel(r'$\\theta_0$',fontsize=16)\n",
    "    plt.ylabel(r'$\\theta_1$',fontsize=16)\n",
    "    #plt.title(title)\n",
    "\n",
    "    plt.savefig(filename)\n",
    "    plt.show()"
   ]
  },
  {
   "cell_type": "code",
   "execution_count": 19,
   "metadata": {},
   "outputs": [
    {
     "name": "stdout",
     "output_type": "stream",
     "text": [
      "\n",
      "Probability: 0.0005\n",
      "\n",
      "Probability: 0.5005\n",
      "\n",
      "Probability: 0.9988\n",
      "\n",
      "Probability: 0.5024\n",
      "\n",
      "Probability: 0.0012\n",
      "\n",
      "Probability: 0.0012\n",
      "\n",
      "Probability: 0.4708\n",
      "\n",
      "Probability: 0.9986\n",
      "\n",
      "Probability: 0.533\n",
      "\n",
      "Probability: 0.0012\n",
      "\n",
      "Probability: 0.0012\n",
      "\n",
      "Probability: 0.509\n",
      "\n",
      "Probability: 0.998\n",
      "\n",
      "Probability: 0.5088\n",
      "\n",
      "Probability: 0.0009\n",
      "\n",
      "Probability: 0.0009\n",
      "\n",
      "Probability: 0.5314\n",
      "\n",
      "Probability: 0.9989\n",
      "\n",
      "Probability: 0.4582\n",
      "\n",
      "Probability: 0.0009\n",
      "\n",
      "Probability: 0.0009\n",
      "\n",
      "Probability: 0.5031\n",
      "\n",
      "Probability: 0.9993\n",
      "\n",
      "Probability: 0.501\n",
      "\n",
      "Probability: 0.0014\n"
     ]
    },
    {
     "data": {
      "image/png": "[encoded data removed]",
      "text/plain": [
       "<Figure size 432x288 with 1 Axes>"
      ]
     },
     "metadata": {
      "needs_background": "light"
     },
     "output_type": "display_data"
    }
   ],
   "source": [
    "plot_decision_boundary(init_list_params, 'init_boundary_qvm_qcs.pdf')"
   ]
  },
  {
   "cell_type": "code",
   "execution_count": 12,
   "metadata": {},
   "outputs": [
    {
     "name": "stdout",
     "output_type": "stream",
     "text": [
      "Current output: 0.06899301408013736\n",
      "Current output: -2.0518596971669005\n",
      "Current output: -1.6067004970041678\n",
      "Current output: 4.20920973669139\n",
      "Current output: -2.985281461066774\n",
      "Current output: -3.025106874342976\n",
      "Current output: -2.3737824710569453\n",
      "Current output: -2.990886979516905\n",
      "Current output: 0.23568897762604712\n",
      "Current output: -5.059593379271113\n",
      "Current output: -5.004704804486291\n",
      "Current output: -4.248907553606002\n",
      "Current output: -4.993360066621519\n",
      "Current output: -1.810833152732939\n",
      "Current output: -4.472923344373136\n",
      "Current output: -4.921282239043035\n",
      "Current output: -3.74541415507524\n",
      "Current output: -4.77505330602809\n",
      "Current output: -5.014320181309342\n",
      "Current output: -3.595036759410094\n",
      "Current output: -5.191600858055053\n",
      "Current output: -5.177042189021276\n",
      "Current output: -4.986391533780622\n",
      "Current output: -5.081198561626774\n",
      "Current output: -5.169932578289066\n",
      "Current output: -4.656081907368045\n",
      "Current output: -5.127429853935968\n",
      "Current output: -5.100462479928198\n",
      "Current output: -5.139039386572043\n",
      "Current output: -5.086530997387464\n",
      "Current output: -4.931624970631288\n",
      "Current output: -5.180179961625844\n",
      "Current output: -5.167440292209939\n",
      "Current output: -5.059584012158059\n",
      "Current output: -5.082885097967376\n",
      "Current output: -5.054188119393093\n",
      "Current output: -5.302005207947902\n",
      "Current output: -5.217615405016399\n",
      "Current output: -5.2190905117376785\n",
      "Current output: -5.149666486413507\n",
      "Current output: -5.187849913197286\n",
      "Current output: -5.13419002042748\n",
      "Current output: -5.044458640491819\n",
      "Current output: -5.117454820667172\n",
      "Current output: -5.081764919403014\n",
      "Current output: -5.285539006954012\n",
      "Current output: -5.362980045505861\n",
      "Current output: -5.226384341088836\n",
      "Current output: -5.156287204004449\n",
      "Current output: -5.181433256330743\n",
      "Current output: -5.230082195295894\n",
      "Current output: -5.244252868619441\n",
      "Current output: -5.15823198926135\n",
      "Current output: -5.263060531743995\n",
      "Current output: -5.152950368953507\n",
      "Current output: -5.137964611998787\n",
      "Current output: -5.160309639453971\n",
      "Current output: -5.152279196292274\n",
      "Current output: -5.250299244724837\n",
      "Current output: -5.151225074215405\n",
      "Current output: -5.115750240891411\n",
      "Current output: -5.3237281903657205\n",
      "Current output: -5.1171870699318704\n"
     ]
    }
   ],
   "source": [
    "# Callback function for displaying progress\n",
    "Nfeval = 1\n",
    "min_loss_history = []\n",
    "    \n",
    "def callback_func(input_params):\n",
    "    global Nfeval\n",
    "    global min_loss_history\n",
    "    loss = targetfunc_q0(input_params)\n",
    "    list_display = [Nfeval]\n",
    "    list_display.extend(input_params)\n",
    "    list_display.append(loss)\n",
    "    Nfeval += 1\n",
    "    min_loss_history.append(loss)\n",
    "    \n",
    "def targetfunc(x):\n",
    "    try:\n",
    "        return targetfunc_q0(x)\n",
    "    except:\n",
    "        return targetfunc_q0(x)\n",
    "    \n",
    "# Train the classifier\n",
    "res = minimize(targetfunc, init_list_params, args=(),\n",
    "               method='Nelder-Mead', tol=1e-2, \n",
    "               callback=callback_func, options={'disp': False,\n",
    "                                                'initial_simplex': init_simplex,\n",
    "                                                'maxiter': 20,\n",
    "                                                'xatol': 0.01,\n",
    "                                                'return_all': False,\n",
    "                                                'fatol': 0.01})"
   ]
  },
  {
   "cell_type": "code",
   "execution_count": 13,
   "metadata": {},
   "outputs": [
    {
     "name": "stdout",
     "output_type": "stream",
     "text": [
      " final_simplex: (array([[4.69191443, 2.17921824],\n",
      "       [4.69291865, 2.16642877],\n",
      "       [4.6903535 , 2.18146648]]), array([-5.32372819, -5.30200521, -5.25029924]))\n",
      "           fun: -5.3237281903657205\n",
      "       message: 'Maximum number of iterations has been exceeded.'\n",
      "          nfev: 44\n",
      "           nit: 20\n",
      "        status: 2\n",
      "       success: False\n",
      "             x: array([4.69191443, 2.17921824])\n"
     ]
    }
   ],
   "source": [
    "print(res)"
   ]
  },
  {
   "cell_type": "code",
   "execution_count": 14,
   "metadata": {},
   "outputs": [
    {
     "data": {
      "image/png": "[encoded data removed]",
      "text/plain": [
       "<Figure size 432x288 with 1 Axes>"
      ]
     },
     "metadata": {
      "needs_background": "light"
     },
     "output_type": "display_data"
    }
   ],
   "source": [
    "# Print decision boundary performing a grid evaluation of the optimized circuit\n",
    "params = res.x\n",
    "plot_decision_boundary(params, 'final_boundary_qvm_qcs.pdf')"
   ]
  },
  {
   "cell_type": "code",
   "execution_count": 15,
   "metadata": {},
   "outputs": [
    {
     "name": "stderr",
     "output_type": "stream",
     "text": [
      "/usr/local/lib/python3.7/site-packages/matplotlib/cbook/__init__.py:424: MatplotlibDeprecationWarning: \n",
      "Passing one of 'on', 'true', 'off', 'false' as a boolean is deprecated; use an actual boolean (True/False) instead.\n",
      "  warn_deprecated(\"2.2\", \"Passing one of 'on', 'true', 'off', 'false' as a \"\n"
     ]
    },
    {
     "data": {
      "image/png": "[encoded data removed]",
      "text/plain": [
       "<Figure size 432x288 with 1 Axes>"
      ]
     },
     "metadata": {
      "needs_background": "light"
     },
     "output_type": "display_data"
    }
   ],
   "source": [
    "# Plot training curve\n",
    "plt.plot(range(0, len(min_loss_history)), min_loss_history)\n",
    "plt.grid('on')\n",
    "\n",
    "plt.rc('text', usetex=True)\n",
    "plt.rc('font', family='serif')\n",
    "\n",
    "plt.xlabel(r'Iteration',fontsize=16)\n",
    "plt.ylabel(r'$-(\\log p_0-\\log p_1)$',fontsize=16)\n",
    "plt.savefig('training_curve_qcs.pdf')\n",
    "\n",
    "plt.show()"
   ]
  },
  {
   "cell_type": "code",
   "execution_count": null,
   "metadata": {
    "collapsed": true
   },
   "outputs": [],
   "source": []
  }
 ],
 "metadata": {
  "kernelspec": {
   "display_name": "Python 3",
   "language": "python",
   "name": "python3"
  },
  "language_info": {
   "codemirror_mode": {
    "name": "ipython",
    "version": 3
   },
   "file_extension": ".py",
   "mimetype": "text/x-python",
   "name": "python",
   "nbconvert_exporter": "python",
   "pygments_lexer": "ipython3",
   "version": "3.7.0"
  }
 },
 "nbformat": 4,
 "nbformat_minor": 2
}
