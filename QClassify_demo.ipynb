{
 "cells": [
  {
   "cell_type": "markdown",
   "metadata": {},
   "source": [
    "# QClassify: an implementation of variational quantum classifier\n",
    "\n",
    "Classification of points on 2D plane using a 2-qubit quantum circuit. Here we encode a 2-dimensional vector $(\\theta_1, \\theta_2)$ into a 2-qubit state, and use a parametrized circuit to perform further classification.\n",
    "\n",
    "The circuit is the following:\n",
    "\n",
    "<img src=\"qnn_circuit3.png\" width=\"50%\">\n",
    "\n",
    "The first part is an encoding circuit that serves as a feature map which maps a data point $(\\theta_1,\\theta_2)$ into a 2-qubit state. The second part is a classifier which produces the output as the probability $p$ of measuring $|0\\rangle$ in the top qubit.\n",
    "\n",
    "References:\n",
    "\n",
    "The set up of quantum neural network: https://arxiv.org/abs/1802.06002\n",
    "\n",
    "The encoding idea: https://arxiv.org/abs/1804.00633\n",
    "\n",
    "The ansatz design: https://arxiv.org/abs/1804.11326"
   ]
  },
  {
   "cell_type": "code",
   "execution_count": 1,
   "metadata": {},
   "outputs": [],
   "source": [
    "from qclassifier import *\n",
    "\n",
    "qubits_chosen = [0, 1]\n",
    "qc = QClassifier(qubits_chosen)\n",
    "\n",
    "params = [3.0672044712460114, 3.3311348339721203]\n",
    "input_vec = [1, 1]\n",
    "qc_prog = qc.circuit(input_vec, params)"
   ]
  },
  {
   "cell_type": "code",
   "execution_count": 2,
   "metadata": {},
   "outputs": [
    {
     "name": "stdout",
     "output_type": "stream",
     "text": [
      "RX(1) 0\n",
      "RX(1) 1\n",
      "CZ 0 1\n",
      "RX(3.0672044712460114) 0\n",
      "RX(3.3311348339721203) 1\n",
      "DECLARE ro BIT[1]\n",
      "MEASURE 0 ro[0]\n",
      "\n"
     ]
    }
   ],
   "source": [
    "print(qc_prog)"
   ]
  },
  {
   "cell_type": "code",
   "execution_count": 3,
   "metadata": {},
   "outputs": [
    {
     "name": "stdout",
     "output_type": "stream",
     "text": [
      "\n",
      "Probability: 0.7861\n"
     ]
    }
   ],
   "source": [
    "prob = qc.execute()"
   ]
  },
  {
   "cell_type": "code",
   "execution_count": 4,
   "metadata": {},
   "outputs": [
    {
     "name": "stdout",
     "output_type": "stream",
     "text": [
      "0.7861\n"
     ]
    }
   ],
   "source": [
    "print(prob)"
   ]
  },
  {
   "cell_type": "code",
   "execution_count": 6,
   "metadata": {},
   "outputs": [
    {
     "name": "stdout",
     "output_type": "stream",
     "text": [
      "\n",
      "Probability: 0.0014\n",
      "\n",
      "Probability: 0.4984\n",
      "\n",
      "Probability: 0.9979\n",
      "\n",
      "Probability: 0.4984\n",
      "\n",
      "Probability: 0.0009\n",
      "\n",
      "Probability: 0.0009\n",
      "\n",
      "Probability: 0.4666\n",
      "\n",
      "Probability: 0.9991\n",
      "\n",
      "Probability: 0.5371\n",
      "\n",
      "Probability: 0.0012\n",
      "\n",
      "Probability: 0.0012\n",
      "\n",
      "Probability: 0.5024\n",
      "\n",
      "Probability: 0.9986\n",
      "\n",
      "Probability: 0.5024\n",
      "\n",
      "Probability: 0.0009\n",
      "\n",
      "Probability: 0.0015\n",
      "\n",
      "Probability: 0.5401\n",
      "\n",
      "Probability: 0.9988\n",
      "\n",
      "Probability: 0.4687\n",
      "\n",
      "Probability: 0.0017\n",
      "\n",
      "Probability: 0.0017\n",
      "\n",
      "Probability: 0.5004\n",
      "\n",
      "Probability: 0.9985\n",
      "\n",
      "Probability: 0.5043\n",
      "\n",
      "Probability: 0.0028\n"
     ]
    },
    {
     "data": {
      "image/png": "[encoded data removed]",
      "text/plain": [
       "<Figure size 432x288 with 1 Axes>"
      ]
     },
     "metadata": {
      "needs_background": "light"
     },
     "output_type": "display_data"
    }
   ],
   "source": [
    "qc.plot_decision_boundary([0,0],[0,1],'qclassifier_db.pdf')"
   ]
  },
  {
   "cell_type": "code",
   "execution_count": 5,
   "metadata": {},
   "outputs": [
    {
     "name": "stdout",
     "output_type": "stream",
     "text": [
      "Iter   Obj\n",
      "   1   0.031\n",
      "   2   0.031\n",
      "   3   0.031\n",
      "   4   0.014\n"
     ]
    }
   ],
   "source": [
    "qc.train()"
   ]
  },
  {
   "cell_type": "code",
   "execution_count": 6,
   "metadata": {},
   "outputs": [
    {
     "name": "stdout",
     "output_type": "stream",
     "text": [
      "[0.03129332624158843, 0.030987287765350757, 0.03129015481882465, 0.013525306036028528]\n"
     ]
    }
   ],
   "source": [
    "print(qc.min_loss_history)"
   ]
  },
  {
   "cell_type": "code",
   "execution_count": null,
   "metadata": {
    "collapsed": true
   },
   "outputs": [],
   "source": []
  }
 ],
 "metadata": {
  "kernelspec": {
   "display_name": "Python 3",
   "language": "python",
   "name": "python3"
  },
  "language_info": {
   "codemirror_mode": {
    "name": "ipython",
    "version": 3
   },
   "file_extension": ".py",
   "mimetype": "text/x-python",
   "name": "python",
   "nbconvert_exporter": "python",
   "pygments_lexer": "ipython3",
   "version": "3.7.0"
  }
 },
 "nbformat": 4,
 "nbformat_minor": 2
}
