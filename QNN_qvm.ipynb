{
 "cells": [
  {
   "cell_type": "markdown",
   "metadata": {},
   "source": [
    "# Supervised learning\n",
    "\n",
    "Classification of points on 2D plane using a 2-qubit quantum circuit. Here we encode a 2-dimensional vector $(\\theta_1, \\theta_2)$ into a 2-qubit state, and use a parametrized circuit to perform further classification.\n",
    "\n",
    "The circuit is the following:\n",
    "\n",
    "<img src=\"qnn_circuit3.png\" width=\"50%\">\n",
    "\n",
    "The first part is an encoding circuit that serves as a feature map which maps a data point $(\\theta_1,\\theta_2)$ into a 2-qubit state. The second part is a classifier which produces the output as the probability $p$ of measuring $|0\\rangle$ in the top qubit.\n",
    "\n",
    "References:\n",
    "\n",
    "The set up of quantum neural network: https://arxiv.org/abs/1802.06002\n",
    "\n",
    "The encoding idea: https://arxiv.org/abs/1804.00633\n",
    "\n",
    "The ansatz design: https://arxiv.org/abs/1804.11326"
   ]
  },
  {
   "cell_type": "code",
   "execution_count": 1,
   "metadata": {},
   "outputs": [],
   "source": [
    "# Basic parameters\n",
    "import numpy as np\n",
    "import matplotlib.pyplot as plt\n",
    "\n",
    "from pyquil.api import (CompilerConnection, get_devices,\n",
    "                        QVMConnection, QPUConnection)\n",
    "from pyquil.quil import Program\n",
    "from pyquil.gates import *\n",
    "\n",
    "from math import *\n",
    "\n",
    "# Function running the quantum circuit\n",
    "def qnn(input_vec, params, qubits_chosen):\n",
    "    \n",
    "    \"\"\"\n",
    "    Args:\n",
    "        input_vec - the 2D input vector to be classified\n",
    "        params - the parameters for the classification circuit\n",
    "        qubits_chosen - indices of the chosen qubits\n",
    "    \n",
    "    Returns:\n",
    "        A program object describing the circuit\n",
    "    \"\"\"\n",
    "    \n",
    "    t0 = input_vec[0]\n",
    "    t1 = input_vec[1]\n",
    "    \n",
    "    p0 = params[0]\n",
    "    p1 = params[1]\n",
    "    \n",
    "    q0 = qubits_chosen[0]\n",
    "    q1 = qubits_chosen[1]\n",
    "    \n",
    "    program = Program(\n",
    "            RX(t0, q0),\n",
    "            RX(t1, q1), # Encoding circuit\n",
    "            CZ(q0, q1), \n",
    "            RX(p0, q0),\n",
    "            RX(p1, q1), # Unitary layer\n",
    "            MEASURE(q0, 0),\n",
    "            MEASURE(q1, 1)\n",
    "        )\n",
    "    \n",
    "    return program"
   ]
  },
  {
   "cell_type": "markdown",
   "metadata": {},
   "source": [
    "Now we run one instance of the circuit on the QPU with randomly assigned parameters."
   ]
  },
  {
   "cell_type": "code",
   "execution_count": 2,
   "metadata": {},
   "outputs": [
    {
     "name": "stdout",
     "output_type": "stream",
     "text": [
      "job YWkEgBwrnZKJDVRj is currently compiling\n",
      "Compiled Quil Program:\n",
      "PRAGMA EXPECTED_REWIRING \"#(0 1 2 3 4 5 6 7)\"\n",
      "RZ(pi/2) 0\n",
      "RX(pi/2) 0\n",
      "RZ(0.1) 0\n",
      "RX(-pi/2) 0\n",
      "RZ(pi/2) 1\n",
      "RX(pi/2) 1\n",
      "RZ(-0.2) 1\n",
      "RX(-pi/2) 1\n",
      "CZ 0 1\n",
      "RX(pi/2) 0\n",
      "RZ(-0.5470195385378536) 0\n",
      "RX(-pi/2) 0\n",
      "RZ(-pi/2) 0\n",
      "RX(pi/2) 1\n",
      "RZ(-0.4146482997545453) 1\n",
      "RX(-pi/2) 1\n",
      "RZ(-pi/2) 1\n",
      "PRAGMA CURRENT_REWIRING \"#(0 1 2 3 4 5 6 7)\"\n",
      "PRAGMA EXPECTED_REWIRING \"#(0 1 2 3 4 5 6 7)\"\n",
      "MEASURE 0 [0]\n",
      "MEASURE 1 [1]\n",
      "PRAGMA CURRENT_REWIRING \"#(0 1 2 3 4 5 6 7)\"\n",
      "\n",
      "\n",
      "Gate volume         : 17\n",
      "Gate depth            : 9\n",
      "Topological SWAPs     : 0\n",
      "Program fidelity      : 0.6966407361909048\n",
      "Multiqubit gate depth : 1\n",
      "\n",
      "Probability: 0.049\n"
     ]
    }
   ],
   "source": [
    "# Test run the circuit\n",
    "\n",
    "N_RUNS = 10000\n",
    "\n",
    "input_vec = [0.1, -0.2]\n",
    "params = [np.random.uniform(-pi/2, pi/2) for x in range(0,4)]\n",
    "qubits_chosen = [0,1]\n",
    "\n",
    "qnn_prog = qnn(input_vec, params, qubits_chosen)\n",
    "\n",
    "# Set up device and compiler\n",
    "device = get_devices(as_dict=True)['8Q-Agave']\n",
    "compiler = CompilerConnection(device)\n",
    "    \n",
    "# Submit compilation job\n",
    "compiler_job_id = compiler.compile_async(qnn_prog)\n",
    "completed_job = compiler.wait_for_job(compiler_job_id)\n",
    "\n",
    "# Display post-compilation info\n",
    "print(\"Compiled Quil Program:\")\n",
    "compiled_program = completed_job.compiled_quil()\n",
    "print(compiled_program)\n",
    "print(\"\\nGate volume         : {}\".format(completed_job.gate_volume()))\n",
    "print(\"Gate depth            : {}\".format(completed_job.gate_depth()))\n",
    "print(\"Topological SWAPs     : {}\".format(completed_job.topological_swaps()))\n",
    "print(\"Program fidelity      : {}\".format(completed_job.program_fidelity()))\n",
    "print(\"Multiqubit gate depth : {}\".format(completed_job.multiqubit_gate_depth()))\n",
    "\n",
    "# Open connection to the QVM\n",
    "qvm = QVMConnection()\n",
    "\n",
    "# Add noise to gates and measurements\n",
    "gate_noise_probs = [0.00, 0.0, 0.01]\n",
    "meas_noise_probs = [0.00, 0.0, 0.01]\n",
    "noisy_qvm = QVMConnection(gate_noise=gate_noise_probs, measurement_noise=meas_noise_probs)\n",
    "\n",
    "result = noisy_qvm.run(qnn_prog, qubits_chosen, N_RUNS)\n",
    "num_q0_1 = 0\n",
    "for x in result:\n",
    "    if x[0]==1:\n",
    "        num_q0_1 = num_q0_1 + 1\n",
    "qpu_prob = num_q0_1 / N_RUNS\n",
    "print(\"\\nProbability: {}\".format(qpu_prob))"
   ]
  },
  {
   "cell_type": "markdown",
   "metadata": {},
   "source": [
    "## Linearly inseparable data\n",
    "\n",
    "We generate synthetic data points in 2D that are linearly inseparable"
   ]
  },
  {
   "cell_type": "code",
   "execution_count": 3,
   "metadata": {},
   "outputs": [
    {
     "data": {
      "image/png": "[encoded data removed]",
      "text/plain": [
       "<matplotlib.figure.Figure at 0x1115227b8>"
      ]
     },
     "metadata": {},
     "output_type": "display_data"
    }
   ],
   "source": [
    "# Generate linearly separable data\n",
    "Ndata = 5 # Number of data points per point group\n",
    "delta = pi/10 # range of perturbation\n",
    "#group0 = [[-pi/2+np.random.uniform(-delta,delta), np.random.uniform(-delta, delta)] for x in range(0, Ndata)]\\\n",
    "#        + [[pi/2+np.random.uniform(-delta,delta), pi+np.random.uniform(-delta, delta)] for x in range(0, Ndata)]\n",
    "#group1 = [[-pi/2+np.random.uniform(-delta,delta), pi+np.random.uniform(-delta, delta)] for x in range(0, Ndata)]\\\n",
    "#        + [[pi/2+np.random.uniform(-delta,delta), np.random.uniform(-delta, delta)] for x in range(0, Ndata)]\n",
    "group0 = [[-1.8014030885341425, 0.07049090664351776], [-1.301866318505309, -0.09006021655705085], [-1.2995311803877012, 0.17179375194954777], [-1.6844614700570668, 0.26300082528677904], [-1.581826822227654, 0.2210431121474794], [1.526782533409962, 3.227296155921321], [1.6081456320334693, 3.3248683153683958], [1.4118513018150587, 3.436121923699187], [1.5620769416428386, 3.384965966733096], [1.3020823312222616, 3.3163245524916936]]\n",
    "group1 = [[-1.6269012492495667, 2.8732368479226293], [-1.5530830764355592, 3.1738353675554416], [-1.8513100742724584, 3.2237767325843545], [-1.6272074871316728, 3.28878799481208], [-1.6612433455383213, 2.879163347517711], [1.3798060401258543, -0.09979143378370409], [1.6151621300228456, 0.04571164290639079], [1.426884637605485, -0.06169454299108834], [1.5019812981463012, -0.16369059365023533], [1.6204586467622049, -0.10966267374801358]]\n",
    "\n",
    "# Plot the data points\n",
    "plt.xlim(-pi,pi)\n",
    "plt.ylim(-pi/2,pi+pi/2)\n",
    "plt.scatter([x[0] for x in group0], [x[1] for x in group0], c=\"r\")\n",
    "plt.scatter([x[0] for x in group1], [x[1] for x in group1], c=\"b\")\n",
    "plt.xlabel(r'$\\theta_0$',fontsize=16)\n",
    "plt.ylabel(r'$\\theta_1$',fontsize=16)\n",
    "plt.grid('on')\n",
    "plt.savefig('xor.pdf')\n",
    "plt.show()"
   ]
  },
  {
   "cell_type": "code",
   "execution_count": 20,
   "metadata": {},
   "outputs": [],
   "source": [
    "# Function for one evaluation of a data point on a QPU\n",
    "qubits_chosen = [0, 1]\n",
    "\n",
    "def evaluate_q0(input_vec, params, qubits_chosen):\n",
    "    \"\"\"\n",
    "    Objective function is the probability of q0 being |1>\n",
    "    \"\"\"\n",
    "    \n",
    "    qnn_prog = qnn(input_vec, params, qubits_chosen)\n",
    "\n",
    "    # Open connection to the QVM\n",
    "    qvm = QVMConnection()\n",
    "\n",
    "    # Add noise to gates and measurements\n",
    "    gate_noise_probs = [0.00, 0.0, 0.01]\n",
    "    meas_noise_probs = [0.00, 0.0, 0.01]\n",
    "    noisy_qvm = QVMConnection(gate_noise=gate_noise_probs, measurement_noise=meas_noise_probs)\n",
    "\n",
    "    result = noisy_qvm.run(qnn_prog, qubits_chosen, N_RUNS)\n",
    "    num_q0_1 = 0\n",
    "    for x in result:\n",
    "        if x[0]==1:\n",
    "            num_q0_1 = num_q0_1 + 1\n",
    "    qpu_prob = num_q0_1 / N_RUNS\n",
    "    #print(\"\\nProbability of the top qubit being 0: {}\".format(qpu_prob))\n",
    "    \n",
    "    return qpu_prob"
   ]
  },
  {
   "cell_type": "code",
   "execution_count": 21,
   "metadata": {},
   "outputs": [],
   "source": [
    "# Training objective\n",
    "def targetfunc_q0(params):\n",
    "    \n",
    "    prob_group0 = []\n",
    "    #print('Group 0')\n",
    "    for input_vec in group0:\n",
    "        qpu_prob = evaluate_q0(input_vec, params, qubits_chosen)\n",
    "        prob_group0 = prob_group0 + [qpu_prob]\n",
    "    \n",
    "    prob_group1 = []\n",
    "    #print('Group 1')\n",
    "    for input_vec in group1:\n",
    "        qpu_prob = evaluate_q0(input_vec, params, qubits_chosen)\n",
    "        prob_group1 = prob_group1 + [qpu_prob]\n",
    "    \n",
    "    output = -(np.mean([log(x) for x in prob_group0]) - np.mean([log(x) for x in prob_group1]))\n",
    "    #print('Output={}'.format(output))\n",
    "    return output"
   ]
  },
  {
   "cell_type": "code",
   "execution_count": 22,
   "metadata": {},
   "outputs": [],
   "source": [
    "from scipy.optimize import minimize\n",
    "from matplotlib import cm\n",
    "\n",
    "init_list_params = [3.0672044712460114, 3.3311348339721203]\n",
    "# Sanity check: \n",
    "# http://www.wolframalpha.com/input/?i=plot+cos(x%2F2)%5E2*sin(y%2F2)%5E2%2Bsin(x%2F2)%5E2*cos(y%2F2)%5E2%2B1%2F2*sin(y)*sin(x)*cos(z)+for+y%3D3.0\n",
    "init_simplex = [init_list_params]\n",
    "for x in range(0,2):\n",
    "    perturbed_params = [y+np.random.uniform(-pi, pi) for y in init_list_params]\n",
    "    init_simplex = init_simplex + [perturbed_params]\n",
    "\n",
    "def plot_decision_boundary(params,filename):\n",
    "    \n",
    "    Nmesh = 20\n",
    "    range0 = np.linspace(-pi,pi,Nmesh)\n",
    "    range1 = np.linspace(-pi/2,pi+pi/2,Nmesh)\n",
    "\n",
    "    range_inputs = []\n",
    "    func_vals = []\n",
    "\n",
    "    for y in range1:\n",
    "        for x in range0:\n",
    "            range_inputs = range_inputs + [[x,y]]\n",
    "            func_vals = func_vals + [evaluate_q0([x,y], params, qubits_chosen)]\n",
    "\n",
    "    # Plot the decision boundaries\n",
    "    x = list(np.kron(range1, [1 for i in range(0,Nmesh)]))\n",
    "    #y = list(np.kron([1 for i in range(0,Nmesh)], range0))\n",
    "    X, Y = np.meshgrid(range0, range1)\n",
    "\n",
    "    # colors = func_vals\n",
    "    Z = np.reshape(func_vals, [Nmesh, Nmesh])\n",
    "\n",
    "    levels = np.arange(-3.5, 3.5, 0.1)\n",
    "    norm = cm.colors.Normalize(vmax=abs(Z).max(), vmin=-abs(Z).max())\n",
    "    cmap = cm.PRGn\n",
    "\n",
    "    plt.contourf(X, Y, Z, levels, cmap=cm.get_cmap(cmap, len(levels) - 1), norm=norm)\n",
    "    plt.scatter([x[0] for x in group0], [x[1] for x in group0], c=\"r\")\n",
    "    plt.scatter([x[0] for x in group1], [x[1] for x in group1], c=\"b\")\n",
    "\n",
    "    plt.rc('text', usetex=True)\n",
    "    plt.rc('font', family='serif')\n",
    "\n",
    "    plt.xlabel(r'$\\theta_0$',fontsize=16)\n",
    "    plt.ylabel(r'$\\theta_1$',fontsize=16)\n",
    "    #plt.title(title)\n",
    "\n",
    "    plt.savefig(filename)\n",
    "    plt.show()"
   ]
  },
  {
   "cell_type": "code",
   "execution_count": 12,
   "metadata": {},
   "outputs": [
    {
     "data": {
      "image/png": "[encoded data removed]",
      "text/plain": [
       "<matplotlib.figure.Figure at 0x1112b5f60>"
      ]
     },
     "metadata": {},
     "output_type": "display_data"
    },
    {
     "name": "stdout",
     "output_type": "stream",
     "text": [
      "[3.0672044712460114, 3.3311348339721203]\n"
     ]
    }
   ],
   "source": [
    "plot_decision_boundary(init_list_params,'init_boundary_qvm.pdf')\n",
    "print(init_list_params)"
   ]
  },
  {
   "cell_type": "code",
   "execution_count": 23,
   "metadata": {},
   "outputs": [],
   "source": [
    "# Callback function for displaying progress\n",
    "Nfeval = 1\n",
    "min_loss_history = []\n",
    "    \n",
    "def callback_func(input_params):\n",
    "    global Nfeval\n",
    "    global min_loss_history\n",
    "    loss = targetfunc_q0(input_params)\n",
    "    list_display = [Nfeval]\n",
    "    list_display.extend(input_params)\n",
    "    list_display.append(loss)\n",
    "    Nfeval += 1\n",
    "    min_loss_history.append(loss)\n",
    "    \n",
    "def targetfunc(x):\n",
    "    try:\n",
    "        return targetfunc_q0(x)\n",
    "    except:\n",
    "        return targetfunc_q0(x)\n",
    "    \n",
    "# Train the classifier\n",
    "res = minimize(targetfunc, init_list_params, args=(), method='Nelder-Mead', tol=1e-2, \n",
    "                       callback=callback_func,\n",
    "                       options={'disp': False,\n",
    "                                 'initial_simplex': init_simplex,\n",
    "                                 'maxiter': 20,\n",
    "                                 'xatol': 0.01,\n",
    "                                 'return_all': False,\n",
    "                                 'fatol': 0.01})"
   ]
  },
  {
   "cell_type": "code",
   "execution_count": 14,
   "metadata": {},
   "outputs": [
    {
     "name": "stdout",
     "output_type": "stream",
     "text": [
      " final_simplex: (array([[ 1.53872371,  4.55793907],\n",
      "       [ 1.53304824,  4.55760154],\n",
      "       [ 1.53680322,  4.55557429]]), array([-3.37463468, -3.35388691, -3.32939003]))\n",
      "           fun: -3.3746346786223538\n",
      "       message: 'Maximum number of iterations has been exceeded.'\n",
      "          nfev: 45\n",
      "           nit: 20\n",
      "        status: 2\n",
      "       success: False\n",
      "             x: array([ 1.53872371,  4.55793907])\n"
     ]
    }
   ],
   "source": [
    "print(res)"
   ]
  },
  {
   "cell_type": "code",
   "execution_count": 15,
   "metadata": {},
   "outputs": [
    {
     "data": {
      "image/png": "[encoded data removed]",
      "text/plain": [
       "<matplotlib.figure.Figure at 0x110905048>"
      ]
     },
     "metadata": {},
     "output_type": "display_data"
    }
   ],
   "source": [
    "# Print decision boundary performing a grid evaluation of the optimized circuit\n",
    "params = res.x\n",
    "plot_decision_boundary(params,'final_boundary_qvm.pdf')"
   ]
  },
  {
   "cell_type": "code",
   "execution_count": 49,
   "metadata": {},
   "outputs": [
    {
     "data": {
      "image/png": "[encoded data removed]",
      "text/plain": [
       "<matplotlib.figure.Figure at 0x10ccfb9b0>"
      ]
     },
     "metadata": {},
     "output_type": "display_data"
    }
   ],
   "source": [
    "# Plot training curve\n",
    "plt.plot(range(0,len(min_loss_history)), min_loss_history)\n",
    "plt.grid('on')\n",
    "\n",
    "plt.rc('text', usetex=True)\n",
    "plt.rc('font', family='serif')\n",
    "\n",
    "plt.xlabel(r'Iteration',fontsize=16)\n",
    "plt.ylabel(r'$-(\\log p_0-\\log p_1)$',fontsize=16)\n",
    "plt.savefig('training_curve.pdf')\n",
    "\n",
    "plt.show()"
   ]
  },
  {
   "cell_type": "code",
   "execution_count": null,
   "metadata": {},
   "outputs": [],
   "source": []
  }
 ],
 "metadata": {
  "kernelspec": {
   "display_name": "Python 3",
   "language": "python",
   "name": "python3"
  },
  "language_info": {
   "codemirror_mode": {
    "name": "ipython",
    "version": 3
   },
   "file_extension": ".py",
   "mimetype": "text/x-python",
   "name": "python",
   "nbconvert_exporter": "python",
   "pygments_lexer": "ipython3",
   "version": "3.6.4"
  }
 },
 "nbformat": 4,
 "nbformat_minor": 2
}
